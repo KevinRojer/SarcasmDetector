{
 "cells": [
  {
   "cell_type": "code",
   "execution_count": 1,
   "metadata": {},
   "outputs": [],
   "source": [
    "import pandas as pd\n",
    "import numpy as np\n",
    "import numpy as py\n",
    "import matplotlib.pyplot as plt; plt.rcdefaults()\n",
    "import matplotlib.pyplot as plt\n",
    "import collections"
   ]
  },
  {
   "cell_type": "code",
   "execution_count": 2,
   "metadata": {},
   "outputs": [
    {
     "data": {
      "text/html": [
       "<div>\n",
       "<style scoped>\n",
       "    .dataframe tbody tr th:only-of-type {\n",
       "        vertical-align: middle;\n",
       "    }\n",
       "\n",
       "    .dataframe tbody tr th {\n",
       "        vertical-align: top;\n",
       "    }\n",
       "\n",
       "    .dataframe thead th {\n",
       "        text-align: right;\n",
       "    }\n",
       "</style>\n",
       "<table border=\"1\" class=\"dataframe\">\n",
       "  <thead>\n",
       "    <tr style=\"text-align: right;\">\n",
       "      <th></th>\n",
       "      <th>article_link</th>\n",
       "      <th>headline</th>\n",
       "      <th>is_sarcastic</th>\n",
       "    </tr>\n",
       "  </thead>\n",
       "  <tbody>\n",
       "    <tr>\n",
       "      <th>0</th>\n",
       "      <td>https://www.huffingtonpost.com/entry/versace-b...</td>\n",
       "      <td>former versace store clerk sues over secret 'b...</td>\n",
       "      <td>0</td>\n",
       "    </tr>\n",
       "    <tr>\n",
       "      <th>1</th>\n",
       "      <td>https://www.huffingtonpost.com/entry/roseanne-...</td>\n",
       "      <td>the 'roseanne' revival catches up to our thorn...</td>\n",
       "      <td>0</td>\n",
       "    </tr>\n",
       "    <tr>\n",
       "      <th>2</th>\n",
       "      <td>https://local.theonion.com/mom-starting-to-fea...</td>\n",
       "      <td>mom starting to fear son's web series closest ...</td>\n",
       "      <td>1</td>\n",
       "    </tr>\n",
       "    <tr>\n",
       "      <th>3</th>\n",
       "      <td>https://politics.theonion.com/boehner-just-wan...</td>\n",
       "      <td>boehner just wants wife to listen, not come up...</td>\n",
       "      <td>1</td>\n",
       "    </tr>\n",
       "    <tr>\n",
       "      <th>4</th>\n",
       "      <td>https://www.huffingtonpost.com/entry/jk-rowlin...</td>\n",
       "      <td>j.k. rowling wishes snape happy birthday in th...</td>\n",
       "      <td>0</td>\n",
       "    </tr>\n",
       "  </tbody>\n",
       "</table>\n",
       "</div>"
      ],
      "text/plain": [
       "                                        article_link  \\\n",
       "0  https://www.huffingtonpost.com/entry/versace-b...   \n",
       "1  https://www.huffingtonpost.com/entry/roseanne-...   \n",
       "2  https://local.theonion.com/mom-starting-to-fea...   \n",
       "3  https://politics.theonion.com/boehner-just-wan...   \n",
       "4  https://www.huffingtonpost.com/entry/jk-rowlin...   \n",
       "\n",
       "                                            headline  is_sarcastic  \n",
       "0  former versace store clerk sues over secret 'b...             0  \n",
       "1  the 'roseanne' revival catches up to our thorn...             0  \n",
       "2  mom starting to fear son's web series closest ...             1  \n",
       "3  boehner just wants wife to listen, not come up...             1  \n",
       "4  j.k. rowling wishes snape happy birthday in th...             0  "
      ]
     },
     "execution_count": 2,
     "metadata": {},
     "output_type": "execute_result"
    }
   ],
   "source": [
    "dataset  = pd.read_json('Sarcasm_Headlines_Dataset.json', lines=True)\n",
    "dataset.head()"
   ]
  },
  {
   "cell_type": "code",
   "execution_count": 3,
   "metadata": {},
   "outputs": [],
   "source": [
    "#The sentiment analysis of the headlines according to Vader\n",
    "import sklearn\n",
    "import nltk\n",
    "import json\n",
    "import spacy\n",
    "from sklearn import metrics\n",
    "from nltk.sentiment.vader import SentimentIntensityAnalyzer\n",
    "\n",
    "vader_model = SentimentIntensityAnalyzer()\n",
    "nlp = spacy.load('en')\n",
    "\n",
    "def sentiment_classification(scores):\n",
    "    compound_score = scores['compound']\n",
    "    if compound_score >= 0.05:\n",
    "        sentiment = 'positive'\n",
    "    elif compound_score <= - 0.05:\n",
    "        sentiment = 'negative'\n",
    "    else:\n",
    "        sentiment = 'neutral'\n",
    "    return sentiment"
   ]
  },
  {
   "cell_type": "code",
   "execution_count": 4,
   "metadata": {},
   "outputs": [],
   "source": [
    "sentences = []\n",
    "for i in range(0, len(dataset)):\n",
    "    sentences.append(dataset['headline'][i])"
   ]
  },
  {
   "cell_type": "code",
   "execution_count": 5,
   "metadata": {},
   "outputs": [
    {
     "name": "stdout",
     "output_type": "stream",
     "text": [
      "\n",
      "Input sentence: former versace store clerk sues over secret 'black code' for minority shoppers\n",
      "Vader output: {'neg': 0.0, 'neu': 1.0, 'pos': 0.0, 'compound': 0.0}\n",
      "\n",
      "Input sentence: the 'roseanne' revival catches up to our thorny political mood, for better and worse\n",
      "Vader output: {'neg': 0.272, 'neu': 0.576, 'pos': 0.152, 'compound': -0.3182}\n",
      "\n",
      "Input sentence: mom starting to fear son's web series closest thing she will have to grandchild\n",
      "Vader output: {'neg': 0.198, 'neu': 0.802, 'pos': 0.0, 'compound': -0.4939}\n",
      "\n",
      "Input sentence: boehner just wants wife to listen, not come up with alternative debt-reduction ideas\n",
      "Vader output: {'neg': 0.0, 'neu': 1.0, 'pos': 0.0, 'compound': 0.0}\n",
      "\n",
      "Input sentence: j.k. rowling wishes snape happy birthday in the most magical way\n",
      "Vader output: {'neg': 0.0, 'neu': 0.629, 'pos': 0.371, 'compound': 0.6486}\n",
      "\n",
      "Input sentence: advancing the world's women\n",
      "Vader output: {'neg': 0.0, 'neu': 1.0, 'pos': 0.0, 'compound': 0.0}\n",
      "\n",
      "Input sentence: the fascinating case for eating lab-grown meat\n",
      "Vader output: {'neg': 0.0, 'neu': 0.632, 'pos': 0.368, 'compound': 0.5423}\n",
      "\n",
      "Input sentence: this ceo will send your kids to school, if you work for his company\n",
      "Vader output: {'neg': 0.0, 'neu': 1.0, 'pos': 0.0, 'compound': 0.0}\n",
      "\n",
      "Input sentence: top snake handler leaves sinking huckabee campaign\n",
      "Vader output: {'neg': 0.0, 'neu': 0.769, 'pos': 0.231, 'compound': 0.2023}\n",
      "\n",
      "Input sentence: friday's morning email: inside trump's presser for the ages\n",
      "Vader output: {'neg': 0.0, 'neu': 1.0, 'pos': 0.0, 'compound': 0.0}\n"
     ]
    }
   ],
   "source": [
    "system_output= []\n",
    "for sent in sentences[:10]:\n",
    "    scores = vader_model.polarity_scores(sent)\n",
    "    system_output.append(sentiment_classification(scores))\n",
    "    print()\n",
    "    print('Input sentence:', sent)\n",
    "    print('Vader output:', scores)"
   ]
  },
  {
   "cell_type": "code",
   "execution_count": 6,
   "metadata": {},
   "outputs": [],
   "source": [
    "num_huffington = 0\n",
    "num_onion = 0\n",
    "num_sarcastic = 0\n",
    "num_non_sarcastic = 0\n",
    "for i in range(0, len(dataset)):\n",
    "    if \"huffingtonpost\" in dataset['article_link'][i]:\n",
    "        num_huffington+=1\n",
    "    if \"theonion\" in dataset['article_link'][i]:\n",
    "        num_onion+=1\n",
    "    if dataset['is_sarcastic'][i] == 1:\n",
    "        num_sarcastic+=1\n",
    "    else:\n",
    "        num_non_sarcastic+=1\n"
   ]
  },
  {
   "cell_type": "code",
   "execution_count": 7,
   "metadata": {},
   "outputs": [
    {
     "data": {
      "text/plain": [
       "14985"
      ]
     },
     "execution_count": 7,
     "metadata": {},
     "output_type": "execute_result"
    }
   ],
   "source": [
    "num_huffington"
   ]
  },
  {
   "cell_type": "code",
   "execution_count": 8,
   "metadata": {},
   "outputs": [
    {
     "data": {
      "text/plain": [
       "11725"
      ]
     },
     "execution_count": 8,
     "metadata": {},
     "output_type": "execute_result"
    }
   ],
   "source": [
    "num_onion"
   ]
  },
  {
   "cell_type": "code",
   "execution_count": 9,
   "metadata": {},
   "outputs": [
    {
     "data": {
      "text/plain": [
       "11724"
      ]
     },
     "execution_count": 9,
     "metadata": {},
     "output_type": "execute_result"
    }
   ],
   "source": [
    "num_sarcastic"
   ]
  },
  {
   "cell_type": "code",
   "execution_count": 10,
   "metadata": {},
   "outputs": [
    {
     "data": {
      "text/plain": [
       "14985"
      ]
     },
     "execution_count": 10,
     "metadata": {},
     "output_type": "execute_result"
    }
   ],
   "source": [
    "num_non_sarcastic"
   ]
  },
  {
   "cell_type": "code",
   "execution_count": 12,
   "metadata": {},
   "outputs": [
    {
     "data": {
      "image/png": "[encoded data removed]",
      "text/plain": [
       "<Figure size 432x288 with 1 Axes>"
      ]
     },
     "metadata": {
      "needs_background": "light"
     },
     "output_type": "display_data"
    },
    {
     "data": {
      "text/plain": [
       "<Figure size 432x288 with 0 Axes>"
      ]
     },
     "metadata": {},
     "output_type": "display_data"
    }
   ],
   "source": [
    "# data to plot\n",
    "n_groups = 2\n",
    "group_news = (num_huffington, num_onion)\n",
    "group_sarcasm  = (len(dataset)-num_sarcastic-num_non_sarcastic, num_sarcastic)\n",
    "group_non_sarcasm = (num_non_sarcastic, len(dataset)-num_sarcastic-num_non_sarcastic)\n",
    "\n",
    "# create plot\n",
    "fig, ax = plt.subplots()\n",
    "index = np.arange(n_groups)\n",
    "bar_width = 0.20\n",
    "opacity = 0.8\n",
    " \n",
    "rects1 = plt.bar(index, group_news, bar_width,\n",
    "alpha=opacity,\n",
    "color='y',\n",
    "label='Total number of headlines')\n",
    " \n",
    "rects2 = plt.bar(index + bar_width, group_sarcasm , bar_width,\n",
    "alpha=opacity,\n",
    "color='c',\n",
    "label='Is Sarcastic')\n",
    "\n",
    "\n",
    "rects3 = plt.bar(index + 2*bar_width, group_non_sarcasm , bar_width,\n",
    "alpha=opacity,\n",
    "color='m',\n",
    "label='Is Not Sarcastic')\n",
    "\n",
    " \n",
    "plt.xlabel('Websites')\n",
    "plt.ylabel('Number of headlines')\n",
    "plt.title('Number of headlines by websites')\n",
    "plt.xticks(index + bar_width, ('Huffington', 'The Onion'))\n",
    "plt.legend()\n",
    " \n",
    "plt.tight_layout()\n",
    "plt.show()\n",
    "plt.savefig('Sarcasm_news_data1')"
   ]
  },
  {
   "cell_type": "code",
   "execution_count": 13,
   "metadata": {},
   "outputs": [
    {
     "name": "stderr",
     "output_type": "stream",
     "text": [
      "[nltk_data] Downloading package stopwords to\n",
      "[nltk_data]     C:\\Users\\İREM\\AppData\\Roaming\\nltk_data...\n",
      "[nltk_data]   Package stopwords is already up-to-date!\n"
     ]
    }
   ],
   "source": [
    "import re\n",
    "import nltk\n",
    "import spacy\n",
    "nltk.download('stopwords')\n",
    "from nltk.corpus import stopwords\n",
    "from nltk.stem.snowball import SnowballStemmer\n",
    "corpus = []\n",
    "wordcount = {}\n",
    "nlp = spacy.load('en')\n",
    "for i, headline in enumerate(dataset['headline']):  # 26709 is the numbers of headlines in the dataset\n",
    "    doc = nlp(headline)\n",
    "    review = dataset['headline'][i] \n",
    "    tokens = [word.lemma_.lower() for word in doc\n",
    "        if not (word.is_stop | word.is_punct | word.is_digit)]\n",
    "    for word in tokens:\n",
    "        if word not in wordcount:\n",
    "            wordcount[word] = 1\n",
    "        else:\n",
    "            wordcount[word] += 1\n",
    "    review = \" \".join(tokens)\n",
    "    corpus.append(review) # add it to the corpus"
   ]
  },
  {
   "cell_type": "code",
   "execution_count": 14,
   "metadata": {},
   "outputs": [
    {
     "data": {
      "text/plain": [
       "<matplotlib.axes._subplots.AxesSubplot at 0x15e938ec358>"
      ]
     },
     "execution_count": 14,
     "metadata": {},
     "output_type": "execute_result"
    },
    {
     "data": {
      "image/png": "[encoded data removed]",
      "text/plain": [
       "<Figure size 432x288 with 1 Axes>"
      ]
     },
     "metadata": {
      "needs_background": "light"
     },
     "output_type": "display_data"
    }
   ],
   "source": [
    "word_counter = collections.Counter(wordcount)\n",
    "lst = word_counter.most_common(20)\n",
    "df = pd.DataFrame(lst, columns = ['Word', 'Count'])\n",
    "df.plot.bar(x='Word',y='Count')"
   ]
  },
  {
   "cell_type": "code",
   "execution_count": null,
   "metadata": {},
   "outputs": [],
   "source": []
  }
 ],
 "metadata": {
  "kernelspec": {
   "display_name": "Python 3",
   "language": "python",
   "name": "python3"
  },
  "language_info": {
   "codemirror_mode": {
    "name": "ipython",
    "version": 3
   },
   "file_extension": ".py",
   "mimetype": "text/x-python",
   "name": "python",
   "nbconvert_exporter": "python",
   "pygments_lexer": "ipython3",
   "version": "3.7.1"
  }
 },
 "nbformat": 4,
 "nbformat_minor": 2
}
