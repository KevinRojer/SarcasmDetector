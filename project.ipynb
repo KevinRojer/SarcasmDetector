{
 "cells": [
  {
   "cell_type": "code",
   "execution_count": 1,
   "metadata": {},
   "outputs": [],
   "source": [
    "import pandas as pd\n",
    "import numpy as py\n",
    "import numpy as np\n",
    "import matplotlib.pyplot as plt\n",
    "from sklearn.metrics import confusion_matrix, classification_report, roc_curve, auc\n",
    "import json\n",
    "import spacy\n",
    "import collections"
   ]
  },
  {
   "cell_type": "code",
   "execution_count": 2,
   "metadata": {},
   "outputs": [],
   "source": [
    "dataset  = pd.read_json('Sarcasm_Headlines_Dataset.json', lines=True)"
   ]
  },
  {
   "cell_type": "code",
   "execution_count": 3,
   "metadata": {},
   "outputs": [
    {
     "data": {
      "text/plain": [
       "'\\nPreprocessing of the headlines.\\n * Word tokenization,\\n * Lower case,\\n * Stop word removal,\\n * Punctuation removal,\\n * Digit removal,\\n * Lemmatization.\\n'"
      ]
     },
     "execution_count": 3,
     "metadata": {},
     "output_type": "execute_result"
    }
   ],
   "source": [
    "    \"\"\"\n",
    "    Preprocessing of the headlines.\n",
    "     * Word tokenization,\n",
    "     * Lower case,\n",
    "     * Stop word removal,\n",
    "     * Punctuation removal,\n",
    "     * Digit removal,\n",
    "     * Lemmatization.\n",
    "    \"\"\""
   ]
  },
  {
   "cell_type": "code",
   "execution_count": 4,
   "metadata": {},
   "outputs": [
    {
     "name": "stderr",
     "output_type": "stream",
     "text": [
      "[nltk_data] Downloading package stopwords to\n",
      "[nltk_data]     C:\\Users\\İREM\\AppData\\Roaming\\nltk_data...\n",
      "[nltk_data]   Package stopwords is already up-to-date!\n"
     ]
    }
   ],
   "source": [
    "# Cleaning the text\n",
    "import re\n",
    "import nltk\n",
    "nltk.download('stopwords')\n",
    "from nltk.corpus import stopwords\n",
    "from nltk.stem.snowball import SnowballStemmer\n",
    "corpus = []\n",
    "nlp = spacy.load('en')\n",
    "for i, headline in enumerate(dataset['headline']):\n",
    "    doc = nlp(headline)\n",
    "    review = dataset['headline'][i] \n",
    "    tokens = [word.lemma_.lower() for word in doc\n",
    "        if not (word.is_stop | word.is_punct | word.is_digit)]\n",
    "    review = \" \".join(tokens)\n",
    "    #review = review.split() \n",
    "    #ps = SnowballStemmer(\"english\")\n",
    "    #review = [ps.stem(word) for word in review if not word in stopwords.words('english')]\n",
    "    #review = ' '.join(review) \n",
    "    corpus.append(review) # add it to the corpus"
   ]
  },
  {
   "cell_type": "code",
   "execution_count": 6,
   "metadata": {},
   "outputs": [],
   "source": [
    "# bag of words model\n",
    "y = dataset.iloc[:, 2]\n",
    "from sklearn.feature_extraction.text import TfidfVectorizer\n",
    "features_n = range(100, 3000, 100) # list of different max vectors to try\n",
    "scores = []\n",
    "\n",
    "for i in features_n:\n",
    "    \n",
    "    #Td-idf\n",
    "    tf = TfidfVectorizer(analyzer='word', ngram_range=(1,3),max_features = i)\n",
    "    X = tf.fit_transform(corpus).toarray() #get the preprocessed text\n",
    "   \n",
    "    #Splitting\n",
    "    from sklearn.model_selection import train_test_split\n",
    "    X_train, X_test, y_train, y_test = train_test_split(X,y, test_size=0.2, random_state=0)\n",
    "    \n",
    "    #Logistic regression (our main model)\n",
    "    from sklearn.linear_model import LogisticRegression  \n",
    "    classifier = LogisticRegression(random_state=0, solver='lbfgs') \n",
    "    \n",
    "    #Multinomial Naive Bayes (only for the last part)\n",
    "    from sklearn.naive_bayes import MultinomialNB\n",
    "    classifier2 = MultinomialNB().fit(X_train, y_train)\n",
    "    \n",
    "    classifier.fit(X_train, y_train)\n",
    "    classifier2.fit(X_train, y_train)\n",
    "\n",
    "    y_pred = classifier.predict(X_test)\n",
    "\n",
    "    #Confusion Matrix\n",
    "    from sklearn.metrics import confusion_matrix\n",
    "    cm = confusion_matrix(y_test, y_pred)\n",
    "    TP = cm[0][0]\n",
    "    FP = cm[0][1]\n",
    "    FN = cm[1][0]\n",
    "    TN = cm[1][1]\n",
    "    error_rate = (FP+FN)/(TP+TN+FP+FN) # calculating the error rate based on confusion matrix results\n",
    "    scores.append(error_rate)"
   ]
  },
  {
   "cell_type": "code",
   "execution_count": 7,
   "metadata": {},
   "outputs": [
    {
     "name": "stdout",
     "output_type": "stream",
     "text": [
      "The optimal number of max vectors is 2900 with an error rate of 0.228\n"
     ]
    },
    {
     "data": {
      "image/png": "[encoded data removed]",
      "text/plain": [
       "<Figure size 432x288 with 1 Axes>"
      ]
     },
     "metadata": {
      "needs_background": "light"
     },
     "output_type": "display_data"
    },
    {
     "data": {
      "text/plain": [
       "<Figure size 432x288 with 0 Axes>"
      ]
     },
     "metadata": {},
     "output_type": "display_data"
    }
   ],
   "source": [
    "#Printing out the optimal max features value and plot the results\n",
    "optimal_n = features_n[scores.index(min(scores))]\n",
    "print (\"The optimal number of max vectors is %d\" % optimal_n + \" with an error rate of %.3f\" % min(scores))\n",
    "plt.plot(features_n, scores)\n",
    "plt.xlabel('Number of Max Vectors')\n",
    "plt.ylabel('Error Rate')\n",
    "plt.show()\n",
    "plt.savefig('Sarcasm_Error')"
   ]
  },
  {
   "cell_type": "code",
   "execution_count": 8,
   "metadata": {},
   "outputs": [
    {
     "name": "stdout",
     "output_type": "stream",
     "text": [
      "Confusion matrix\n",
      " [[2555  452]\n",
      " [ 766 1569]]\n"
     ]
    }
   ],
   "source": [
    "print('Confusion matrix\\n',confusion_matrix(y_test, y_pred))"
   ]
  },
  {
   "cell_type": "code",
   "execution_count": 9,
   "metadata": {},
   "outputs": [
    {
     "name": "stdout",
     "output_type": "stream",
     "text": [
      "Classification_report\n",
      "               precision    recall  f1-score   support\n",
      "\n",
      "           0       0.77      0.85      0.81      3007\n",
      "           1       0.78      0.67      0.72      2335\n",
      "\n",
      "   micro avg       0.77      0.77      0.77      5342\n",
      "   macro avg       0.77      0.76      0.76      5342\n",
      "weighted avg       0.77      0.77      0.77      5342\n",
      "\n"
     ]
    }
   ],
   "source": [
    "print('Classification_report\\n',classification_report(y_test, y_pred))"
   ]
  },
  {
   "cell_type": "code",
   "execution_count": 10,
   "metadata": {},
   "outputs": [
    {
     "data": {
      "text/plain": [
       "[0.34425308873081245,\n",
       " 0.32441033320853613,\n",
       " 0.3105578435043055,\n",
       " 0.2987645076750281,\n",
       " 0.2903406963684014,\n",
       " 0.28285286409584426,\n",
       " 0.27948333957319355,\n",
       " 0.27667540247098465,\n",
       " 0.2716211156870086,\n",
       " 0.2669412205166604,\n",
       " 0.2618869337326844,\n",
       " 0.25421190565331336,\n",
       " 0.25271433919880193,\n",
       " 0.25065518532384873,\n",
       " 0.24728566080119804,\n",
       " 0.2495320104829652,\n",
       " 0.24728566080119804,\n",
       " 0.24578809434668664,\n",
       " 0.24372894047173344,\n",
       " 0.24185698240359416,\n",
       " 0.24110819917633844,\n",
       " 0.24054661175589667,\n",
       " 0.2373642830400599,\n",
       " 0.23436915013103707,\n",
       " 0.23549232497192063,\n",
       " 0.23549232497192063,\n",
       " 0.2326843878697117,\n",
       " 0.23025084238113067,\n",
       " 0.22800449269936354]"
      ]
     },
     "execution_count": 10,
     "metadata": {},
     "output_type": "execute_result"
    }
   ],
   "source": [
    "scores"
   ]
  },
  {
   "cell_type": "code",
   "execution_count": 11,
   "metadata": {},
   "outputs": [
    {
     "data": {
      "image/png": "[encoded data removed]",
      "text/plain": [
       "<Figure size 504x360 with 2 Axes>"
      ]
     },
     "metadata": {
      "needs_background": "light"
     },
     "output_type": "display_data"
    }
   ],
   "source": [
    "classes = ['Sarcastic','Not Sarcastic']\n",
    "plt.rcParams[\"figure.figsize\"] = (7,5)\n",
    "normalize = True\n",
    "cm =confusion_matrix(y_test,y_pred)\n",
    "\n",
    "fig, ax = plt.subplots()\n",
    "im = ax.imshow(cm, interpolation='nearest', cmap=plt.cm.GnBu)\n",
    "ax.figure.colorbar(im, ax=ax)\n",
    "# We want to show all ticks...\n",
    "ax.set(xticks=np.arange(cm.shape[1]),\n",
    "       yticks=np.arange(cm.shape[0]),\n",
    "       # ... and label them with the respective list entries\n",
    "       xticklabels=classes, yticklabels=classes,\n",
    "       title= \"Sarcasm Outcomes\",\n",
    "       ylabel='True label',\n",
    "       xlabel='Predicted label')\n",
    "fmt = '.2f' if normalize else 'd'\n",
    "thresh = cm.max() / 2.\n",
    "for i in range(cm.shape[0]):\n",
    "    for j in range(cm.shape[1]):\n",
    "        ax.text(j, i, format(cm[i, j], fmt),\n",
    "                ha=\"center\", va=\"center\",\n",
    "                color=\"white\" if cm[i, j] > thresh else \"black\")\n",
    "fig.autofmt_xdate()\n",
    "plt.savefig('Sarcasm_Confusion_Matrix')"
   ]
  },
  {
   "cell_type": "code",
   "execution_count": 12,
   "metadata": {},
   "outputs": [],
   "source": [
    "def important_features_per_class(vectorizer,classifier,n=80):\n",
    "    class_labels = classifier.classes_\n",
    "    feature_names =vectorizer.get_feature_names()\n",
    "    topn_class1 = sorted(zip(classifier.feature_count_[0], feature_names),reverse=True)[:n]\n",
    "    topn_class2 = sorted(zip(classifier.feature_count_[1], feature_names),reverse=True)[:n]\n",
    "    print(\"Important words in non-sarcastic documents\")\n",
    "    for coef, feat in topn_class1:\n",
    "        print(class_labels[0], coef, feat)\n",
    "    print(\"-----------------------------------------\")\n",
    "    print(\"Important words in sarcastic documents\")\n",
    "    for coef, feat in topn_class2:\n",
    "        print(class_labels[1], coef, feat) "
   ]
  },
  {
   "cell_type": "code",
   "execution_count": 13,
   "metadata": {},
   "outputs": [
    {
     "name": "stdout",
     "output_type": "stream",
     "text": [
      "Important words in non-sarcastic documents\n",
      "0 278.2086392239899 trump\n",
      "0 132.1798462492476 new\n",
      "0 115.88181884613934 woman\n",
      "0 113.38775576324605 donald\n",
      "0 110.6599130637361 donald trump\n",
      "0 94.52798428996708 year\n",
      "0 92.91152321310378 say\n",
      "0 77.5346821753179 way\n",
      "0 75.76813426370592 good\n",
      "0 74.95687359418112 thing\n",
      "0 74.81671046275575 life\n",
      "0 72.12041932689121 day\n",
      "0 71.4111673563867 want\n",
      "0 71.07489158651512 world\n",
      "0 69.71736076799927 people\n",
      "0 69.68987899732612 need\n",
      "0 69.24637930038001 man\n",
      "0 67.95435793172456 get\n",
      "0 67.7446670093969 american\n",
      "0 65.13802744764696 time\n",
      "0 64.40317778846645 watch\n",
      "0 63.89213360446436 love\n",
      "0 62.91645497560617 obama\n",
      "0 61.5649652204268 america\n",
      "0 61.18047458202306 gop\n",
      "0 60.98833506185811 know\n",
      "0 58.54737645805147 change\n",
      "0 58.52916076680944 black\n",
      "0 58.25189504855988 kid\n",
      "0 57.96914331703061 like\n",
      "0 55.61524387019098 white\n",
      "0 55.49666276542019 look\n",
      "0 54.9097813797006 clinton\n",
      "0 54.78107520526597 president\n",
      "0 54.64576347422986 help\n",
      "0 53.106485027301815 state\n",
      "0 52.194501664307836 talk\n",
      "0 52.15690092610659 house\n",
      "0 51.66622562300794 star\n",
      "0 50.99567207044346 right\n",
      "0 50.562833940690716 hillary\n",
      "0 49.856092509103426 big\n",
      "0 48.75726405298865 video\n",
      "0 47.91010563911932 make\n",
      "0 47.6200053364061 call\n",
      "0 47.59932243352364 win\n",
      "0 47.541976837265736 republican\n",
      "0 47.301389942643276 come\n",
      "0 47.263043817436525 police\n",
      "0 47.07966426993608 child\n",
      "0 46.99314533112339 kill\n",
      "0 46.93682508851603 bill\n",
      "0 46.84980974176872 live\n",
      "0 46.1208797881438 school\n",
      "0 45.59913692635559 mom\n",
      "0 45.19859929488166 health\n",
      "0 45.071686535551656 find\n",
      "0 44.79372081766846 take\n",
      "0 44.70074400779747 attack\n",
      "0 44.123707357524204 tell\n",
      "0 43.97417758801884 girl\n",
      "0 43.01837408387738 old\n",
      "0 42.94576664236461 bad\n",
      "0 42.463252805618204 think\n",
      "0 42.25702818357514 go\n",
      "0 41.74341825548725 stop\n",
      "0 41.40691753300309 hillary clinton\n",
      "0 41.074381714945176 work\n",
      "0 40.59679481824095 family\n",
      "0 40.369408642028446 war\n",
      "0 39.94119133889658 death\n",
      "0 39.859040207573486 photo\n",
      "0 39.65592808861444 fight\n",
      "0 39.46096156908627 plan\n",
      "0 39.07213151666438 election\n",
      "0 37.63475908272048 parent\n",
      "0 36.80315138794944 news\n",
      "0 36.74944961176968 home\n",
      "0 36.54997716429168 real\n",
      "0 36.54136908673293 student\n",
      "-----------------------------------------\n",
      "Important words in sarcastic documents\n",
      "1 252.56627145160766 man\n",
      "1 165.52909170437755 new\n",
      "1 134.70325576406327 area\n",
      "1 127.95285491936797 report\n",
      "1 99.52039699851541 woman\n",
      "1 95.11880210547825 year\n",
      "1 93.01379480134389 nation\n",
      "1 77.1463938993482 area man\n",
      "1 76.02837951424569 time\n",
      "1 73.78671826699866 get\n",
      "1 71.36533702835962 old\n",
      "1 69.11017556920716 day\n",
      "1 67.06487023889524 american\n",
      "1 64.63388635280724 find\n",
      "1 62.80180990973611 go\n",
      "1 59.59505422409654 child\n",
      "1 58.2219557731354 like\n",
      "1 56.03827757008839 good\n",
      "1 55.27842182352762 study\n",
      "1 54.59609629330954 friend\n",
      "1 53.77601633949532 family\n",
      "1 52.29158985279689 look\n",
      "1 52.14272837514505 life\n",
      "1 51.00245692358594 think\n",
      "1 50.05495347158655 year old\n",
      "1 49.955647333041554 local\n",
      "1 48.38063501129223 obama\n",
      "1 47.43344052230847 work\n",
      "1 46.78379595023621 guy\n",
      "1 44.78840718956379 come\n",
      "1 44.65483683413313 self\n",
      "1 44.09634372912892 house\n",
      "1 42.191212666674325 take\n",
      "1 41.95564347649491 announce\n",
      "1 41.75950271023089 little\n",
      "1 40.92632674055671 trump\n",
      "1 40.83811306250773 tell\n",
      "1 40.506194714219276 ask\n",
      "1 39.997694977092124 people\n",
      "1 39.91877493278168 bush\n",
      "1 39.327563107159264 way\n",
      "1 39.274816277285865 white\n",
      "1 39.054672962493306 know\n",
      "1 38.809524936178285 parent\n",
      "1 38.77482826460824 introduce\n",
      "1 38.45257606756133 school\n",
      "1 38.13796054380383 home\n",
      "1 37.00926922299575 employee\n",
      "1 36.93728143518667 thing\n",
      "1 36.84658829753969 force\n",
      "1 36.83246387027669 mom\n",
      "1 36.76882077047106 god\n",
      "1 36.75926737526575 party\n",
      "1 36.6204447751041 make\n",
      "1 36.4832173770816 job\n",
      "1 36.45746815310283 world\n",
      "1 36.247092673723174 clinton\n",
      "1 35.10629750873244 break\n",
      "1 34.81253484443219 leave\n",
      "1 34.30476394610947 plan\n",
      "1 33.78120158729898 000\n",
      "1 33.73328746190981 minute\n",
      "1 33.47558862838551 try\n",
      "1 33.187400206537454 right\n",
      "1 32.9431229009516 die\n",
      "1 32.90526184072942 say\n",
      "1 32.815783096699946 couple\n",
      "1 32.752808013421635 dad\n",
      "1 32.61460133042974 high\n",
      "1 31.708913181300883 big\n",
      "1 31.383164522720886 run\n",
      "1 31.379781232688906 start\n",
      "1 31.342206845775486 spend\n",
      "1 30.871770760155115 want\n",
      "1 29.80362142361322 eat\n",
      "1 29.458210933585995 kill\n",
      "1 29.44536583160965 give\n",
      "1 29.264512663581346 teen\n",
      "1 29.12790406887392 feel\n",
      "1 28.992599663138318 fuck\n"
     ]
    }
   ],
   "source": [
    "important_features_per_class(tf, classifier2)"
   ]
  },
  {
   "cell_type": "code",
   "execution_count": 14,
   "metadata": {},
   "outputs": [
    {
     "name": "stdout",
     "output_type": "stream",
     "text": [
      "('area', 5.832572834562479)\n",
      "('nation', 5.48487841509498)\n",
      "('report', 4.690201557952062)\n",
      "('man', 4.4830911532991395)\n",
      "('local', 3.89692077740186)\n",
      "-----------------------------------------\n",
      "('trump', -4.581120774987403)\n",
      "('donald', -2.9147535189204783)\n",
      "('queer', -2.7920795690209173)\n",
      "('donald trump', -2.5054991639175217)\n",
      "('tweet', -2.3928588271197686)\n"
     ]
    }
   ],
   "source": [
    "feature_to_coef = {\n",
    "    word: coef for word, coef in zip(\n",
    "        tf.get_feature_names(), classifier.coef_[0]\n",
    "    )\n",
    "}\n",
    "\n",
    "for best_positive in sorted(\n",
    "    feature_to_coef.items(), \n",
    "    key=lambda x: x[1], \n",
    "    reverse=True)[:5]:\n",
    "    print (best_positive)\n",
    "    \n",
    "print(\"-----------------------------------------\")\n",
    "\n",
    "for best_negative in sorted(\n",
    "    feature_to_coef.items(), \n",
    "    key=lambda x: x[1])[:5]:\n",
    "    print (best_negative)\n"
   ]
  }
 ],
 "metadata": {
  "kernelspec": {
   "display_name": "Python 3",
   "language": "python",
   "name": "python3"
  },
  "language_info": {
   "codemirror_mode": {
    "name": "ipython",
    "version": 3
   },
   "file_extension": ".py",
   "mimetype": "text/x-python",
   "name": "python",
   "nbconvert_exporter": "python",
   "pygments_lexer": "ipython3",
   "version": "3.7.1"
  }
 },
 "nbformat": 4,
 "nbformat_minor": 2
}
